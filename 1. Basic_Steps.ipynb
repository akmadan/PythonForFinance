{
  "nbformat": 4,
  "nbformat_minor": 0,
  "metadata": {
    "colab": {
      "name": "1. Basic Steps.ipynb",
      "provenance": [],
      "authorship_tag": "ABX9TyPT48HksYPRcFvlIE2RcTRR",
      "include_colab_link": true
    },
    "kernelspec": {
      "name": "python3",
      "display_name": "Python 3"
    },
    "language_info": {
      "name": "python"
    }
  },
  "cells": [
    {
      "cell_type": "markdown",
      "metadata": {
        "id": "view-in-github",
        "colab_type": "text"
      },
      "source": [
        "<a href=\"https://colab.research.google.com/github/akmadan/PythonForFinance/blob/main/1.%20Basic_Steps.ipynb\" target=\"_parent\"><img src=\"https://colab.research.google.com/assets/colab-badge.svg\" alt=\"Open In Colab\"/></a>"
      ]
    },
    {
      "cell_type": "markdown",
      "metadata": {
        "id": "SdtK0z-OxI6b"
      },
      "source": [
        "**Importing and Installing Libraries**"
      ]
    },
    {
      "cell_type": "code",
      "metadata": {
        "id": "q_y-d2I4wizF",
        "colab": {
          "base_uri": "https://localhost:8080/"
        },
        "outputId": "7a6d272e-c42f-4ca1-9635-495c8955d5fe"
      },
      "source": [
        "!pip install yfinance"
      ],
      "execution_count": 1,
      "outputs": [
        {
          "output_type": "stream",
          "name": "stdout",
          "text": [
            "Collecting yfinance\n",
            "  Downloading yfinance-0.1.66-py2.py3-none-any.whl (25 kB)\n",
            "Requirement already satisfied: pandas>=0.24 in /usr/local/lib/python3.7/dist-packages (from yfinance) (1.1.5)\n",
            "Collecting lxml>=4.5.1\n",
            "  Downloading lxml-4.6.4-cp37-cp37m-manylinux_2_17_x86_64.manylinux2014_x86_64.manylinux_2_24_x86_64.whl (6.3 MB)\n",
            "\u001b[K     |████████████████████████████████| 6.3 MB 42.4 MB/s \n",
            "\u001b[?25hRequirement already satisfied: multitasking>=0.0.7 in /usr/local/lib/python3.7/dist-packages (from yfinance) (0.0.9)\n",
            "Requirement already satisfied: requests>=2.20 in /usr/local/lib/python3.7/dist-packages (from yfinance) (2.23.0)\n",
            "Requirement already satisfied: numpy>=1.15 in /usr/local/lib/python3.7/dist-packages (from yfinance) (1.19.5)\n",
            "Requirement already satisfied: python-dateutil>=2.7.3 in /usr/local/lib/python3.7/dist-packages (from pandas>=0.24->yfinance) (2.8.2)\n",
            "Requirement already satisfied: pytz>=2017.2 in /usr/local/lib/python3.7/dist-packages (from pandas>=0.24->yfinance) (2018.9)\n",
            "Requirement already satisfied: six>=1.5 in /usr/local/lib/python3.7/dist-packages (from python-dateutil>=2.7.3->pandas>=0.24->yfinance) (1.15.0)\n",
            "Requirement already satisfied: urllib3!=1.25.0,!=1.25.1,<1.26,>=1.21.1 in /usr/local/lib/python3.7/dist-packages (from requests>=2.20->yfinance) (1.24.3)\n",
            "Requirement already satisfied: certifi>=2017.4.17 in /usr/local/lib/python3.7/dist-packages (from requests>=2.20->yfinance) (2021.10.8)\n",
            "Requirement already satisfied: chardet<4,>=3.0.2 in /usr/local/lib/python3.7/dist-packages (from requests>=2.20->yfinance) (3.0.4)\n",
            "Requirement already satisfied: idna<3,>=2.5 in /usr/local/lib/python3.7/dist-packages (from requests>=2.20->yfinance) (2.10)\n",
            "Installing collected packages: lxml, yfinance\n",
            "  Attempting uninstall: lxml\n",
            "    Found existing installation: lxml 4.2.6\n",
            "    Uninstalling lxml-4.2.6:\n",
            "      Successfully uninstalled lxml-4.2.6\n",
            "Successfully installed lxml-4.6.4 yfinance-0.1.66\n"
          ]
        }
      ]
    },
    {
      "cell_type": "code",
      "metadata": {
        "id": "KMq-dSi4raE1"
      },
      "source": [
        "import pandas as pd\n",
        "import numpy as np\n",
        "import matplotlib.pyplot as plt\n",
        "plt.style.use('fivethirtyeight')\n",
        "\n",
        "from datetime import datetime\n",
        "import pandas_datareader.data as data\n",
        "import yfinance as yf\n",
        "yf.pdr_override()"
      ],
      "execution_count": 2,
      "outputs": []
    },
    {
      "cell_type": "markdown",
      "metadata": {
        "id": "BTckvD1sxQ30"
      },
      "source": [
        "**Loading Stock Data**"
      ]
    },
    {
      "cell_type": "code",
      "metadata": {
        "colab": {
          "base_uri": "https://localhost:8080/",
          "height": 254
        },
        "id": "Z3-XM40kt0Km",
        "outputId": "f0970baa-5fac-4690-98b3-e640a55f4afb"
      },
      "source": [
        "## Loading SBI Stock Data\n",
        "start = '2010-01-01'   ## Jan 01, 2010\n",
        "end = '2020-12-31'     ## Dec 31, 2020\n",
        "\n",
        "def loadStockData(stock, start, end):\n",
        "  sbi = data.get_data_yahoo(stock, start=start, end = end)\n",
        "  return sbi \n",
        "\n",
        "\n",
        "sbi = loadStockData('SBIN.NS', start, end)\n",
        "sbi.head()"
      ],
      "execution_count": 3,
      "outputs": [
        {
          "output_type": "stream",
          "name": "stdout",
          "text": [
            "\r[*********************100%***********************]  1 of 1 completed\n"
          ]
        },
        {
          "output_type": "execute_result",
          "data": {
            "text/html": [
              "<div>\n",
              "<style scoped>\n",
              "    .dataframe tbody tr th:only-of-type {\n",
              "        vertical-align: middle;\n",
              "    }\n",
              "\n",
              "    .dataframe tbody tr th {\n",
              "        vertical-align: top;\n",
              "    }\n",
              "\n",
              "    .dataframe thead th {\n",
              "        text-align: right;\n",
              "    }\n",
              "</style>\n",
              "<table border=\"1\" class=\"dataframe\">\n",
              "  <thead>\n",
              "    <tr style=\"text-align: right;\">\n",
              "      <th></th>\n",
              "      <th>Open</th>\n",
              "      <th>High</th>\n",
              "      <th>Low</th>\n",
              "      <th>Close</th>\n",
              "      <th>Adj Close</th>\n",
              "      <th>Volume</th>\n",
              "    </tr>\n",
              "    <tr>\n",
              "      <th>Date</th>\n",
              "      <th></th>\n",
              "      <th></th>\n",
              "      <th></th>\n",
              "      <th></th>\n",
              "      <th></th>\n",
              "      <th></th>\n",
              "    </tr>\n",
              "  </thead>\n",
              "  <tbody>\n",
              "    <tr>\n",
              "      <th>2010-01-04</th>\n",
              "      <td>227.500000</td>\n",
              "      <td>230.000000</td>\n",
              "      <td>227.500000</td>\n",
              "      <td>229.119995</td>\n",
              "      <td>202.633774</td>\n",
              "      <td>11031470</td>\n",
              "    </tr>\n",
              "    <tr>\n",
              "      <th>2010-01-05</th>\n",
              "      <td>230.800003</td>\n",
              "      <td>231.000000</td>\n",
              "      <td>228.009995</td>\n",
              "      <td>229.205002</td>\n",
              "      <td>202.708969</td>\n",
              "      <td>11613740</td>\n",
              "    </tr>\n",
              "    <tr>\n",
              "      <th>2010-01-06</th>\n",
              "      <td>229.699997</td>\n",
              "      <td>231.500000</td>\n",
              "      <td>228.500000</td>\n",
              "      <td>230.580002</td>\n",
              "      <td>203.925018</td>\n",
              "      <td>14527930</td>\n",
              "    </tr>\n",
              "    <tr>\n",
              "      <th>2010-01-07</th>\n",
              "      <td>230.600006</td>\n",
              "      <td>231.000000</td>\n",
              "      <td>228.110001</td>\n",
              "      <td>229.289993</td>\n",
              "      <td>202.784149</td>\n",
              "      <td>8576510</td>\n",
              "    </tr>\n",
              "    <tr>\n",
              "      <th>2010-01-08</th>\n",
              "      <td>229.399994</td>\n",
              "      <td>230.389999</td>\n",
              "      <td>228.009995</td>\n",
              "      <td>228.604996</td>\n",
              "      <td>202.178314</td>\n",
              "      <td>10453820</td>\n",
              "    </tr>\n",
              "  </tbody>\n",
              "</table>\n",
              "</div>"
            ],
            "text/plain": [
              "                  Open        High  ...   Adj Close    Volume\n",
              "Date                                ...                      \n",
              "2010-01-04  227.500000  230.000000  ...  202.633774  11031470\n",
              "2010-01-05  230.800003  231.000000  ...  202.708969  11613740\n",
              "2010-01-06  229.699997  231.500000  ...  203.925018  14527930\n",
              "2010-01-07  230.600006  231.000000  ...  202.784149   8576510\n",
              "2010-01-08  229.399994  230.389999  ...  202.178314  10453820\n",
              "\n",
              "[5 rows x 6 columns]"
            ]
          },
          "metadata": {},
          "execution_count": 3
        }
      ]
    },
    {
      "cell_type": "markdown",
      "metadata": {
        "id": "u4ZatZDIwHXM"
      },
      "source": [
        "**Loading Multiple Stocks Data**"
      ]
    },
    {
      "cell_type": "code",
      "metadata": {
        "id": "LB94KJ5hwNn2",
        "colab": {
          "base_uri": "https://localhost:8080/",
          "height": 285
        },
        "outputId": "89d7f106-6eed-4dcd-cbd0-7e19dba50d1c"
      },
      "source": [
        "stocks = ['SBIN.NS', 'ZEEL.NS']\n",
        "stocks_df = loadStockData(stocks, start, end)\n",
        "stocks_df.head()"
      ],
      "execution_count": 4,
      "outputs": [
        {
          "output_type": "stream",
          "name": "stdout",
          "text": [
            "[*********************100%***********************]  2 of 2 completed\n"
          ]
        },
        {
          "output_type": "execute_result",
          "data": {
            "text/html": [
              "<div>\n",
              "<style scoped>\n",
              "    .dataframe tbody tr th:only-of-type {\n",
              "        vertical-align: middle;\n",
              "    }\n",
              "\n",
              "    .dataframe tbody tr th {\n",
              "        vertical-align: top;\n",
              "    }\n",
              "\n",
              "    .dataframe thead tr th {\n",
              "        text-align: left;\n",
              "    }\n",
              "\n",
              "    .dataframe thead tr:last-of-type th {\n",
              "        text-align: right;\n",
              "    }\n",
              "</style>\n",
              "<table border=\"1\" class=\"dataframe\">\n",
              "  <thead>\n",
              "    <tr>\n",
              "      <th></th>\n",
              "      <th colspan=\"2\" halign=\"left\">Adj Close</th>\n",
              "      <th colspan=\"2\" halign=\"left\">Close</th>\n",
              "      <th colspan=\"2\" halign=\"left\">High</th>\n",
              "      <th colspan=\"2\" halign=\"left\">Low</th>\n",
              "      <th colspan=\"2\" halign=\"left\">Open</th>\n",
              "      <th colspan=\"2\" halign=\"left\">Volume</th>\n",
              "    </tr>\n",
              "    <tr>\n",
              "      <th></th>\n",
              "      <th>SBIN.NS</th>\n",
              "      <th>ZEEL.NS</th>\n",
              "      <th>SBIN.NS</th>\n",
              "      <th>ZEEL.NS</th>\n",
              "      <th>SBIN.NS</th>\n",
              "      <th>ZEEL.NS</th>\n",
              "      <th>SBIN.NS</th>\n",
              "      <th>ZEEL.NS</th>\n",
              "      <th>SBIN.NS</th>\n",
              "      <th>ZEEL.NS</th>\n",
              "      <th>SBIN.NS</th>\n",
              "      <th>ZEEL.NS</th>\n",
              "    </tr>\n",
              "    <tr>\n",
              "      <th>Date</th>\n",
              "      <th></th>\n",
              "      <th></th>\n",
              "      <th></th>\n",
              "      <th></th>\n",
              "      <th></th>\n",
              "      <th></th>\n",
              "      <th></th>\n",
              "      <th></th>\n",
              "      <th></th>\n",
              "      <th></th>\n",
              "      <th></th>\n",
              "      <th></th>\n",
              "    </tr>\n",
              "  </thead>\n",
              "  <tbody>\n",
              "    <tr>\n",
              "      <th>2010-01-04</th>\n",
              "      <td>202.633774</td>\n",
              "      <td>106.864006</td>\n",
              "      <td>229.119995</td>\n",
              "      <td>118.354012</td>\n",
              "      <td>230.000000</td>\n",
              "      <td>120.861710</td>\n",
              "      <td>227.500000</td>\n",
              "      <td>117.439995</td>\n",
              "      <td>227.500000</td>\n",
              "      <td>120.744530</td>\n",
              "      <td>11031470</td>\n",
              "      <td>1607836</td>\n",
              "    </tr>\n",
              "    <tr>\n",
              "      <th>2010-01-05</th>\n",
              "      <td>202.708969</td>\n",
              "      <td>108.027863</td>\n",
              "      <td>229.205002</td>\n",
              "      <td>119.643013</td>\n",
              "      <td>231.000000</td>\n",
              "      <td>121.119514</td>\n",
              "      <td>228.009995</td>\n",
              "      <td>119.103981</td>\n",
              "      <td>230.800003</td>\n",
              "      <td>119.291466</td>\n",
              "      <td>11613740</td>\n",
              "      <td>1259269</td>\n",
              "    </tr>\n",
              "    <tr>\n",
              "      <th>2010-01-06</th>\n",
              "      <td>203.925003</td>\n",
              "      <td>110.419067</td>\n",
              "      <td>230.580002</td>\n",
              "      <td>122.291336</td>\n",
              "      <td>231.500000</td>\n",
              "      <td>124.400612</td>\n",
              "      <td>228.500000</td>\n",
              "      <td>119.010231</td>\n",
              "      <td>229.699997</td>\n",
              "      <td>119.010231</td>\n",
              "      <td>14527930</td>\n",
              "      <td>4309042</td>\n",
              "    </tr>\n",
              "    <tr>\n",
              "      <th>2010-01-07</th>\n",
              "      <td>202.784134</td>\n",
              "      <td>110.482559</td>\n",
              "      <td>229.289993</td>\n",
              "      <td>122.361641</td>\n",
              "      <td>231.000000</td>\n",
              "      <td>124.213120</td>\n",
              "      <td>228.110001</td>\n",
              "      <td>121.681984</td>\n",
              "      <td>230.600006</td>\n",
              "      <td>123.275665</td>\n",
              "      <td>8576510</td>\n",
              "      <td>2303302</td>\n",
              "    </tr>\n",
              "    <tr>\n",
              "      <th>2010-01-08</th>\n",
              "      <td>202.178329</td>\n",
              "      <td>108.831985</td>\n",
              "      <td>228.604996</td>\n",
              "      <td>120.533600</td>\n",
              "      <td>230.389999</td>\n",
              "      <td>123.181915</td>\n",
              "      <td>228.009995</td>\n",
              "      <td>119.736763</td>\n",
              "      <td>229.399994</td>\n",
              "      <td>122.806938</td>\n",
              "      <td>10453820</td>\n",
              "      <td>808849</td>\n",
              "    </tr>\n",
              "  </tbody>\n",
              "</table>\n",
              "</div>"
            ],
            "text/plain": [
              "             Adj Close                   Close  ...        Open    Volume         \n",
              "               SBIN.NS     ZEEL.NS     SBIN.NS  ...     ZEEL.NS   SBIN.NS  ZEEL.NS\n",
              "Date                                            ...                               \n",
              "2010-01-04  202.633774  106.864006  229.119995  ...  120.744530  11031470  1607836\n",
              "2010-01-05  202.708969  108.027863  229.205002  ...  119.291466  11613740  1259269\n",
              "2010-01-06  203.925003  110.419067  230.580002  ...  119.010231  14527930  4309042\n",
              "2010-01-07  202.784134  110.482559  229.289993  ...  123.275665   8576510  2303302\n",
              "2010-01-08  202.178329  108.831985  228.604996  ...  122.806938  10453820   808849\n",
              "\n",
              "[5 rows x 12 columns]"
            ]
          },
          "metadata": {},
          "execution_count": 4
        }
      ]
    },
    {
      "cell_type": "code",
      "metadata": {
        "colab": {
          "base_uri": "https://localhost:8080/",
          "height": 236
        },
        "id": "g8BhAOZzwEB_",
        "outputId": "f94a610b-d238-4005-89b2-8f5c7c08bc69"
      },
      "source": [
        "stocks_df['Close'].head()"
      ],
      "execution_count": 5,
      "outputs": [
        {
          "output_type": "execute_result",
          "data": {
            "text/html": [
              "<div>\n",
              "<style scoped>\n",
              "    .dataframe tbody tr th:only-of-type {\n",
              "        vertical-align: middle;\n",
              "    }\n",
              "\n",
              "    .dataframe tbody tr th {\n",
              "        vertical-align: top;\n",
              "    }\n",
              "\n",
              "    .dataframe thead th {\n",
              "        text-align: right;\n",
              "    }\n",
              "</style>\n",
              "<table border=\"1\" class=\"dataframe\">\n",
              "  <thead>\n",
              "    <tr style=\"text-align: right;\">\n",
              "      <th></th>\n",
              "      <th>SBIN.NS</th>\n",
              "      <th>ZEEL.NS</th>\n",
              "    </tr>\n",
              "    <tr>\n",
              "      <th>Date</th>\n",
              "      <th></th>\n",
              "      <th></th>\n",
              "    </tr>\n",
              "  </thead>\n",
              "  <tbody>\n",
              "    <tr>\n",
              "      <th>2010-01-04</th>\n",
              "      <td>229.119995</td>\n",
              "      <td>118.354012</td>\n",
              "    </tr>\n",
              "    <tr>\n",
              "      <th>2010-01-05</th>\n",
              "      <td>229.205002</td>\n",
              "      <td>119.643013</td>\n",
              "    </tr>\n",
              "    <tr>\n",
              "      <th>2010-01-06</th>\n",
              "      <td>230.580002</td>\n",
              "      <td>122.291336</td>\n",
              "    </tr>\n",
              "    <tr>\n",
              "      <th>2010-01-07</th>\n",
              "      <td>229.289993</td>\n",
              "      <td>122.361641</td>\n",
              "    </tr>\n",
              "    <tr>\n",
              "      <th>2010-01-08</th>\n",
              "      <td>228.604996</td>\n",
              "      <td>120.533600</td>\n",
              "    </tr>\n",
              "  </tbody>\n",
              "</table>\n",
              "</div>"
            ],
            "text/plain": [
              "               SBIN.NS     ZEEL.NS\n",
              "Date                              \n",
              "2010-01-04  229.119995  118.354012\n",
              "2010-01-05  229.205002  119.643013\n",
              "2010-01-06  230.580002  122.291336\n",
              "2010-01-07  229.289993  122.361641\n",
              "2010-01-08  228.604996  120.533600"
            ]
          },
          "metadata": {},
          "execution_count": 5
        }
      ]
    },
    {
      "cell_type": "markdown",
      "metadata": {
        "id": "Q9wzLbl5wmOR"
      },
      "source": [
        "**Visualizing Stocks Data**"
      ]
    },
    {
      "cell_type": "code",
      "metadata": {
        "colab": {
          "base_uri": "https://localhost:8080/",
          "height": 441
        },
        "id": "7YwR-0AcwP5L",
        "outputId": "e0c278f0-7631-49aa-eaf0-0d089a3cd9f2"
      },
      "source": [
        "def plot_data(stocks, start, end):\n",
        "\n",
        "  ## Defining a Figure with Size\n",
        "  plt.figure(figsize = (12,6))\n",
        "  plt.title('Stocks Data Visualization')\n",
        "  plt.xlabel('Year')\n",
        "  plt.ylabel('Price')\n",
        "\n",
        "  ## Iterating through all the stocks in the Data Frame\n",
        "  for stock in stocks.columns.values:\n",
        "    plt.plot(stocks[stock])\n",
        "  plt.show()\n",
        "\n",
        "\n",
        "## Calling the function, and providing the Close Prices of SBI and ZEEL\n",
        "plot_data(stocks_df['Close'], start, end)"
      ],
      "execution_count": 14,
      "outputs": [
        {
          "output_type": "display_data",
          "data": {
            "image/png": "[encoded data removed]",
            "text/plain": [
              "<Figure size 864x432 with 1 Axes>"
            ]
          },
          "metadata": {}
        }
      ]
    },
    {
      "cell_type": "code",
      "metadata": {
        "id": "BMYCefyexCSz"
      },
      "source": [
        ""
      ],
      "execution_count": null,
      "outputs": []
    }
  ]
}