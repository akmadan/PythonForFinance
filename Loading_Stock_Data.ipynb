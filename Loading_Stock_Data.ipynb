{
  "nbformat": 4,
  "nbformat_minor": 0,
  "metadata": {
    "colab": {
      "name": "Loading Stock Data.ipynb",
      "provenance": [],
      "collapsed_sections": [],
      "authorship_tag": "ABX9TyM6HckWCQYQowZPuuWGOEsI",
      "include_colab_link": true
    },
    "kernelspec": {
      "name": "python3",
      "display_name": "Python 3"
    },
    "language_info": {
      "name": "python"
    }
  },
  "cells": [
    {
      "cell_type": "markdown",
      "metadata": {
        "id": "view-in-github",
        "colab_type": "text"
      },
      "source": [
        "<a href=\"https://colab.research.google.com/github/akmadan/PythonForFinance/blob/main/Loading_Stock_Data.ipynb\" target=\"_parent\"><img src=\"https://colab.research.google.com/assets/colab-badge.svg\" alt=\"Open In Colab\"/></a>"
      ]
    },
    {
      "cell_type": "markdown",
      "metadata": {
        "id": "whlkaCRBaM5m"
      },
      "source": [
        "# **Loading Stock Data using Yahoo Finance**"
      ]
    },
    {
      "cell_type": "markdown",
      "metadata": {
        "id": "uamJgg1MiXUs"
      },
      "source": [
        "**Installing yfinance and cufflinks for working with Yahoo Finance API and plotting**"
      ]
    },
    {
      "cell_type": "code",
      "metadata": {
        "id": "53Zozouwhi9X"
      },
      "source": [
        "# !pip install yfinance\n",
        "# !pip install cufflinks"
      ],
      "execution_count": 7,
      "outputs": []
    },
    {
      "cell_type": "markdown",
      "metadata": {
        "id": "OKeDMb9_i1zV"
      },
      "source": [
        "**Importing General Libraries**"
      ]
    },
    {
      "cell_type": "code",
      "metadata": {
        "id": "r7GVgSw-fIu8"
      },
      "source": [
        "import pandas as pd\n",
        "%matplotlib inline\n",
        "import matplotlib.pyplot as plt\n",
        "import seaborn as sns\n",
        "import cufflinks as cf\n",
        "sns.set()"
      ],
      "execution_count": 2,
      "outputs": []
    },
    {
      "cell_type": "markdown",
      "metadata": {
        "id": "MkR4jr2DjAG6"
      },
      "source": [
        "**Importing a stock ticker data**"
      ]
    },
    {
      "cell_type": "code",
      "metadata": {
        "id": "eHdMN1oNflio",
        "colab": {
          "base_uri": "https://localhost:8080/",
          "height": 254
        },
        "outputId": "c7170a2f-3069-4e29-b725-985538937d0c"
      },
      "source": [
        "from datetime import datetime\n",
        "import yfinance as yf\n",
        "import pandas_datareader.data as data\n",
        "\n",
        "\n",
        "yf.pdr_override()\n",
        "\n",
        "start = datetime.strptime('2010-01-01', '%Y-%m-%d')\n",
        "end = datetime.strptime('2020-01-01', '%Y-%m-%d')\n",
        "\n",
        "goog = data.get_data_yahoo(\"GOOG\", start, end)\n",
        "\n",
        "goog.head()"
      ],
      "execution_count": 3,
      "outputs": [
        {
          "output_type": "stream",
          "name": "stdout",
          "text": [
            "\r[*********************100%***********************]  1 of 1 completed\n"
          ]
        },
        {
          "output_type": "execute_result",
          "data": {
            "text/html": [
              "<div>\n",
              "<style scoped>\n",
              "    .dataframe tbody tr th:only-of-type {\n",
              "        vertical-align: middle;\n",
              "    }\n",
              "\n",
              "    .dataframe tbody tr th {\n",
              "        vertical-align: top;\n",
              "    }\n",
              "\n",
              "    .dataframe thead th {\n",
              "        text-align: right;\n",
              "    }\n",
              "</style>\n",
              "<table border=\"1\" class=\"dataframe\">\n",
              "  <thead>\n",
              "    <tr style=\"text-align: right;\">\n",
              "      <th></th>\n",
              "      <th>Open</th>\n",
              "      <th>High</th>\n",
              "      <th>Low</th>\n",
              "      <th>Close</th>\n",
              "      <th>Adj Close</th>\n",
              "      <th>Volume</th>\n",
              "    </tr>\n",
              "    <tr>\n",
              "      <th>Date</th>\n",
              "      <th></th>\n",
              "      <th></th>\n",
              "      <th></th>\n",
              "      <th></th>\n",
              "      <th></th>\n",
              "      <th></th>\n",
              "    </tr>\n",
              "  </thead>\n",
              "  <tbody>\n",
              "    <tr>\n",
              "      <th>2010-01-04</th>\n",
              "      <td>312.304413</td>\n",
              "      <td>313.579620</td>\n",
              "      <td>310.954468</td>\n",
              "      <td>312.204773</td>\n",
              "      <td>312.204773</td>\n",
              "      <td>3927065</td>\n",
              "    </tr>\n",
              "    <tr>\n",
              "      <th>2010-01-05</th>\n",
              "      <td>312.418976</td>\n",
              "      <td>312.747742</td>\n",
              "      <td>309.609497</td>\n",
              "      <td>310.829926</td>\n",
              "      <td>310.829926</td>\n",
              "      <td>6031925</td>\n",
              "    </tr>\n",
              "    <tr>\n",
              "      <th>2010-01-06</th>\n",
              "      <td>311.761444</td>\n",
              "      <td>311.761444</td>\n",
              "      <td>302.047852</td>\n",
              "      <td>302.994293</td>\n",
              "      <td>302.994293</td>\n",
              "      <td>7987226</td>\n",
              "    </tr>\n",
              "    <tr>\n",
              "      <th>2010-01-07</th>\n",
              "      <td>303.562164</td>\n",
              "      <td>303.861053</td>\n",
              "      <td>295.218445</td>\n",
              "      <td>295.940735</td>\n",
              "      <td>295.940735</td>\n",
              "      <td>12876685</td>\n",
              "    </tr>\n",
              "    <tr>\n",
              "      <th>2010-01-08</th>\n",
              "      <td>294.894653</td>\n",
              "      <td>300.498657</td>\n",
              "      <td>293.455048</td>\n",
              "      <td>299.885956</td>\n",
              "      <td>299.885956</td>\n",
              "      <td>9484016</td>\n",
              "    </tr>\n",
              "  </tbody>\n",
              "</table>\n",
              "</div>"
            ],
            "text/plain": [
              "                  Open        High  ...   Adj Close    Volume\n",
              "Date                                ...                      \n",
              "2010-01-04  312.304413  313.579620  ...  312.204773   3927065\n",
              "2010-01-05  312.418976  312.747742  ...  310.829926   6031925\n",
              "2010-01-06  311.761444  311.761444  ...  302.994293   7987226\n",
              "2010-01-07  303.562164  303.861053  ...  295.940735  12876685\n",
              "2010-01-08  294.894653  300.498657  ...  299.885956   9484016\n",
              "\n",
              "[5 rows x 6 columns]"
            ]
          },
          "metadata": {},
          "execution_count": 3
        }
      ]
    },
    {
      "cell_type": "code",
      "metadata": {
        "colab": {
          "base_uri": "https://localhost:8080/"
        },
        "id": "IPQOa6qSYOqL",
        "outputId": "4f71844d-870b-4a0b-b195-34e62faafcb8"
      },
      "source": [
        "goog.info()"
      ],
      "execution_count": 4,
      "outputs": [
        {
          "output_type": "stream",
          "name": "stdout",
          "text": [
            "<class 'pandas.core.frame.DataFrame'>\n",
            "DatetimeIndex: 2516 entries, 2010-01-04 to 2019-12-31\n",
            "Data columns (total 6 columns):\n",
            " #   Column     Non-Null Count  Dtype  \n",
            "---  ------     --------------  -----  \n",
            " 0   Open       2516 non-null   float64\n",
            " 1   High       2516 non-null   float64\n",
            " 2   Low        2516 non-null   float64\n",
            " 3   Close      2516 non-null   float64\n",
            " 4   Adj Close  2516 non-null   float64\n",
            " 5   Volume     2516 non-null   int64  \n",
            "dtypes: float64(5), int64(1)\n",
            "memory usage: 137.6 KB\n"
          ]
        }
      ]
    },
    {
      "cell_type": "code",
      "metadata": {
        "colab": {
          "base_uri": "https://localhost:8080/",
          "height": 299
        },
        "id": "D-zmK1KPY1RS",
        "outputId": "75770a8a-4d89-43e1-bed0-c90dcb951d9e"
      },
      "source": [
        "goog.describe()"
      ],
      "execution_count": 5,
      "outputs": [
        {
          "output_type": "execute_result",
          "data": {
            "text/html": [
              "<div>\n",
              "<style scoped>\n",
              "    .dataframe tbody tr th:only-of-type {\n",
              "        vertical-align: middle;\n",
              "    }\n",
              "\n",
              "    .dataframe tbody tr th {\n",
              "        vertical-align: top;\n",
              "    }\n",
              "\n",
              "    .dataframe thead th {\n",
              "        text-align: right;\n",
              "    }\n",
              "</style>\n",
              "<table border=\"1\" class=\"dataframe\">\n",
              "  <thead>\n",
              "    <tr style=\"text-align: right;\">\n",
              "      <th></th>\n",
              "      <th>Open</th>\n",
              "      <th>High</th>\n",
              "      <th>Low</th>\n",
              "      <th>Close</th>\n",
              "      <th>Adj Close</th>\n",
              "      <th>Volume</th>\n",
              "    </tr>\n",
              "  </thead>\n",
              "  <tbody>\n",
              "    <tr>\n",
              "      <th>count</th>\n",
              "      <td>2516.000000</td>\n",
              "      <td>2516.000000</td>\n",
              "      <td>2516.000000</td>\n",
              "      <td>2516.000000</td>\n",
              "      <td>2516.000000</td>\n",
              "      <td>2.516000e+03</td>\n",
              "    </tr>\n",
              "    <tr>\n",
              "      <th>mean</th>\n",
              "      <td>643.882266</td>\n",
              "      <td>649.233024</td>\n",
              "      <td>638.298028</td>\n",
              "      <td>643.921354</td>\n",
              "      <td>643.921354</td>\n",
              "      <td>3.300117e+06</td>\n",
              "    </tr>\n",
              "    <tr>\n",
              "      <th>std</th>\n",
              "      <td>325.414728</td>\n",
              "      <td>328.254912</td>\n",
              "      <td>322.858643</td>\n",
              "      <td>325.706384</td>\n",
              "      <td>325.706384</td>\n",
              "      <td>2.734986e+06</td>\n",
              "    </tr>\n",
              "    <tr>\n",
              "      <th>min</th>\n",
              "      <td>218.336624</td>\n",
              "      <td>220.314209</td>\n",
              "      <td>216.005356</td>\n",
              "      <td>217.220810</td>\n",
              "      <td>217.220810</td>\n",
              "      <td>7.922000e+03</td>\n",
              "    </tr>\n",
              "    <tr>\n",
              "      <th>25%</th>\n",
              "      <td>317.889717</td>\n",
              "      <td>319.889732</td>\n",
              "      <td>314.267044</td>\n",
              "      <td>316.365440</td>\n",
              "      <td>316.365440</td>\n",
              "      <td>1.426606e+06</td>\n",
              "    </tr>\n",
              "    <tr>\n",
              "      <th>50%</th>\n",
              "      <td>563.677429</td>\n",
              "      <td>568.818298</td>\n",
              "      <td>557.998016</td>\n",
              "      <td>562.994751</td>\n",
              "      <td>562.994751</td>\n",
              "      <td>2.333700e+06</td>\n",
              "    </tr>\n",
              "    <tr>\n",
              "      <th>75%</th>\n",
              "      <td>929.634979</td>\n",
              "      <td>934.092499</td>\n",
              "      <td>923.488754</td>\n",
              "      <td>929.412491</td>\n",
              "      <td>929.412491</td>\n",
              "      <td>4.441934e+06</td>\n",
              "    </tr>\n",
              "    <tr>\n",
              "      <th>max</th>\n",
              "      <td>1363.349976</td>\n",
              "      <td>1365.000000</td>\n",
              "      <td>1352.670044</td>\n",
              "      <td>1361.170044</td>\n",
              "      <td>1361.170044</td>\n",
              "      <td>2.976073e+07</td>\n",
              "    </tr>\n",
              "  </tbody>\n",
              "</table>\n",
              "</div>"
            ],
            "text/plain": [
              "              Open         High  ...    Adj Close        Volume\n",
              "count  2516.000000  2516.000000  ...  2516.000000  2.516000e+03\n",
              "mean    643.882266   649.233024  ...   643.921354  3.300117e+06\n",
              "std     325.414728   328.254912  ...   325.706384  2.734986e+06\n",
              "min     218.336624   220.314209  ...   217.220810  7.922000e+03\n",
              "25%     317.889717   319.889732  ...   316.365440  1.426606e+06\n",
              "50%     563.677429   568.818298  ...   562.994751  2.333700e+06\n",
              "75%     929.634979   934.092499  ...   929.412491  4.441934e+06\n",
              "max    1363.349976  1365.000000  ...  1361.170044  2.976073e+07\n",
              "\n",
              "[8 rows x 6 columns]"
            ]
          },
          "metadata": {},
          "execution_count": 5
        }
      ]
    },
    {
      "cell_type": "code",
      "metadata": {
        "id": "vjZD488Af0Ja",
        "colab": {
          "base_uri": "https://localhost:8080/"
        },
        "outputId": "5ae226ff-bd9f-454f-d17e-7b0a54afaa63"
      },
      "source": [
        "googClose = goog['Close'].head()\n",
        "googClose"
      ],
      "execution_count": 6,
      "outputs": [
        {
          "output_type": "execute_result",
          "data": {
            "text/plain": [
              "Date\n",
              "2010-01-04    312.204773\n",
              "2010-01-05    310.829926\n",
              "2010-01-06    302.994293\n",
              "2010-01-07    295.940735\n",
              "2010-01-08    299.885956\n",
              "Name: Close, dtype: float64"
            ]
          },
          "metadata": {},
          "execution_count": 6
        }
      ]
    },
    {
      "cell_type": "code",
      "metadata": {
        "id": "PfviY4YPZavs"
      },
      "source": [
        "goog.to_csv('google.csv')"
      ],
      "execution_count": null,
      "outputs": []
    },
    {
      "cell_type": "markdown",
      "metadata": {
        "id": "4uyeRf1Ojqag"
      },
      "source": [
        "**Plotting the Closing Price**"
      ]
    },
    {
      "cell_type": "code",
      "metadata": {
        "colab": {
          "base_uri": "https://localhost:8080/",
          "height": 377
        },
        "id": "bNaJ5eLxjMe0",
        "outputId": "7e82975e-86b7-4bdf-ead4-ff17c5753ad2"
      },
      "source": [
        "plt.figure(figsize=(12,6))\n",
        "plt.plot(goog['Close'])\n",
        "plt.show()"
      ],
      "execution_count": null,
      "outputs": [
        {
          "output_type": "display_data",
          "data": {
            "image/png": "[encoded data removed]",
            "text/plain": [
              "<Figure size 864x432 with 1 Axes>"
            ]
          },
          "metadata": {}
        }
      ]
    },
    {
      "cell_type": "markdown",
      "metadata": {
        "id": "JNj6fqycxAEe"
      },
      "source": [
        "**Rolling Windows**"
      ]
    },
    {
      "cell_type": "code",
      "metadata": {
        "id": "fuqCWeZujUgz",
        "colab": {
          "base_uri": "https://localhost:8080/",
          "height": 411
        },
        "outputId": "ac12705b-50bd-4662-8e0e-bffbb98a4059"
      },
      "source": [
        "rolling = goog['Close'].rolling(365, center = True) \n",
        "data  = pd.DataFrame({ \n",
        "    'input': goog['Close'], \n",
        "    'one-year rolling_mean': rolling.mean(),  ## One Year Moving Average\n",
        "    'one-year rolling_std': rolling.std(), \n",
        "})\n",
        "plt.figure(figsize=(12,6))\n",
        "plt.plot(goog['Close'], 'b', alpha = 0.5 )\n",
        "plt.plot(rolling.mean(), '--r')\n",
        "plt.plot(rolling.std(), ':g',)\n",
        "plt.legend()"
      ],
      "execution_count": null,
      "outputs": [
        {
          "output_type": "stream",
          "name": "stderr",
          "text": [
            "No handles with labels found to put in legend.\n"
          ]
        },
        {
          "output_type": "execute_result",
          "data": {
            "text/plain": [
              "<matplotlib.legend.Legend at 0x7f220e181e10>"
            ]
          },
          "metadata": {},
          "execution_count": 21
        },
        {
          "output_type": "display_data",
          "data": {
            "image/png": "[encoded data removed]",
            "text/plain": [
              "<Figure size 864x432 with 1 Axes>"
            ]
          },
          "metadata": {}
        }
      ]
    },
    {
      "cell_type": "code",
      "metadata": {
        "id": "UjEd1B-8yTjI"
      },
      "source": [
        ""
      ],
      "execution_count": null,
      "outputs": []
    }
  ]
}